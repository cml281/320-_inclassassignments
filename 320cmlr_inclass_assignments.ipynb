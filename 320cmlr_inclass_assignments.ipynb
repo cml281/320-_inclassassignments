{
  "nbformat": 4,
  "nbformat_minor": 0,
  "metadata": {
    "colab": {
      "provenance": []
    },
    "kernelspec": {
      "name": "python3",
      "display_name": "Python 3"
    },
    "language_info": {
      "name": "python"
    }
  },
  "cells": [
    {
      "cell_type": "markdown",
      "source": [
        "Rock-paper-scissors (with the while loop)"
      ],
      "metadata": {
        "id": "dO58Eh8OIv2t"
      }
    },
    {
      "cell_type": "code",
      "execution_count": null,
      "metadata": {
        "id": "UHyJhsJmdbdv"
      },
      "outputs": [],
      "source": [
        "p1=input('choose rock,paper,or scissors')\n",
        "p2=input('choose rock,paper,or scissors')\n",
        "\n",
        "if p1==p2:\n",
        "  print(\"tie\")\n",
        "elif p1=='rock' and p2=='paper':\n",
        "  print(\"p2 wins\")\n",
        "elif p1=='rock' and p2=='scissors':\n",
        "  print(\"p1 wins\")\n",
        "elif p1=='paper' and p2=='rock':\n",
        "  print(\"p1 wins\")\n",
        "elif p1=='paper' and p2=='scissors':\n",
        "  print(\"p2 wins\")\n",
        "elif p1=='scissors' and p2=='rock':\n",
        "  print(\"p2 wins\")\n",
        "elif p1=='scissors' and p2=='paper':\n",
        "  print(\"p1 wins\")\n",
        "\n"
      ]
    },
    {
      "cell_type": "markdown",
      "source": [
        "Shape Area Calculator"
      ],
      "metadata": {
        "id": "EsXeDa24I0jq"
      }
    },
    {
      "cell_type": "code",
      "source": [
        "pi=3.14\n",
        "r=float(input(\"Provide a value for radius (in ft):\"))\n",
        "c=float(input('Provide value for side of square'))\n",
        "h=float(input('provide height value'))\n",
        "shape = 'circle'\n",
        "\n",
        "if shape =='circle':\n",
        "  area=pi*r**2\n",
        "  print(f'Area is {area} Sq Ft.')\n",
        "\n",
        "elif shape == 'square':\n",
        "  area=c**2\n",
        "  print(f'Area is {area} Sq Ft.')\n",
        "\n",
        "elif shape == 'triangle':\n",
        "  area = .5*c*h\n",
        "  print(f'area is {area} sq ft')\n",
        "\n",
        "elif shape == \"cylinder\":\n",
        "  area = 2*pi*r*h+2*pi*r**2\n",
        "  print(f'area is {area} sq ft')\n",
        "\n",
        "\n",
        "print('program ends...')"
      ],
      "metadata": {
        "id": "gH1U-QY76bCU"
      },
      "execution_count": null,
      "outputs": []
    },
    {
      "cell_type": "markdown",
      "source": [
        "Numerical Calculator"
      ],
      "metadata": {
        "id": "R3k6aOhoI8eX"
      }
    },
    {
      "cell_type": "code",
      "source": [
        "n1=float(input('choose number 1: '))\n",
        "n2=float(input('choose number 2: '))\n",
        "symbol = input('choose operator (+,-,*,/,or **): ')\n",
        "\n",
        "\n",
        "if symbol == '+':\n",
        "  print(n1+n2)\n",
        "elif symbol == '-':\n",
        "  print(n1-n2)\n",
        "elif symbol == '*':\n",
        "  print(n1*n2)\n",
        "elif symbol == '/':\n",
        "  print(n1/n2)\n",
        "else:\n",
        "  print(n1 ** n2)\n"
      ],
      "metadata": {
        "id": "4pcYgVVw6pxZ"
      },
      "execution_count": null,
      "outputs": []
    },
    {
      "cell_type": "markdown",
      "source": [
        "Parking Garage\n"
      ],
      "metadata": {
        "id": "9dTWuju2J78_"
      }
    },
    {
      "cell_type": "code",
      "source": [
        "flatrate=5\n",
        "hourlyrate=2.5\n",
        "\n",
        "for hour in range(1,9,1):\n",
        "  charge = flatrate + hourlyrate * hour\n",
        "  print(hour,charge)\n",
        "\n",
        "if charge<10:\n",
        "  charge =10\n",
        "\n",
        "elif charge>20:\n",
        "  charge=20\n",
        "  print(hour,charge)"
      ],
      "metadata": {
        "id": "KuACIoJu_xeM"
      },
      "execution_count": null,
      "outputs": []
    },
    {
      "cell_type": "markdown",
      "source": [
        "Movie Theater"
      ],
      "metadata": {
        "id": "EAH1ysRjKPOO"
      }
    },
    {
      "cell_type": "code",
      "source": [
        "print(f'Ads Profit')\n",
        "\n",
        "init_attendees = 20\n",
        "fixed_cost = 200\n",
        "\n",
        "for advertising in range (0,201,25):\n",
        "  ad = float(advertising)\n",
        "  attendees = float (2*round(advertising**0.5)+init_attendees)\n",
        "  profit = float((attendees * 10) - advertising - fixed_cost)\n",
        "  print(f'{ad} $ {profit}')\n",
        "\n",
        "\n",
        "\n"
      ],
      "metadata": {
        "id": "xKQf-mHckvNR"
      },
      "execution_count": null,
      "outputs": []
    },
    {
      "cell_type": "markdown",
      "source": [
        "Months2Numbers dictionary"
      ],
      "metadata": {
        "id": "C8lxAAVFKotz"
      }
    },
    {
      "cell_type": "code",
      "source": [
        "months = {}\n",
        "\n",
        "names = ['Jan', 'Feb', 'Mar', 'Apr', 'May', 'Jun', 'Jul', 'Aug', 'Sep', 'Oct', 'Nov', 'Dec']\n",
        "numbers = [1,2,3,4,5,6,7,8,9,10,11,12]\n",
        "\n",
        "# Using a for loop to iterate through both lists\n",
        "for i in range(len(numbers)):\n",
        "    months[numbers[i]] = names[i]\n",
        "\n",
        "print(months)"
      ],
      "metadata": {
        "id": "MQxjGStjKniI"
      },
      "execution_count": null,
      "outputs": []
    },
    {
      "cell_type": "markdown",
      "source": [
        "Fee calculation and display functions"
      ],
      "metadata": {
        "id": "X-0eVaNSLCIN"
      }
    },
    {
      "cell_type": "code",
      "source": [
        "def displayFee(fee):\n",
        "  print(fee)\n",
        "\n",
        "def calcFee(hours, decimals=2):\n",
        "  fee = round(5+ hours * 2.5, decimals)\n",
        "  return fee\n",
        "\n",
        "def main():\n",
        "  hours_parked = int(input('Enter hours for parking: '))\n",
        "  f = calcFee(hours_parked)\n",
        "  displayFee(f)\n",
        "\n",
        "if __name__ == '__main__':\n",
        "  main()\n"
      ],
      "metadata": {
        "id": "UCXUtnCpLBX3"
      },
      "execution_count": null,
      "outputs": []
    },
    {
      "cell_type": "markdown",
      "source": [
        "Student Class"
      ],
      "metadata": {
        "id": "fV3KTdXRLQzE"
      }
    },
    {
      "cell_type": "code",
      "source": [
        "class Student:\n",
        "  def __init__(self, name, number):\n",
        "    self.name = name\n",
        "    self.number = number\n",
        "    self.courses = []\n",
        "\n",
        "  def enroll(self, course):\n",
        "    if course not in self.courses:\n",
        "      self.courses.append(course)\n",
        "    else:\n",
        "      print(f'You have already enrolled in course: {course}')\n",
        "\n",
        "  def get_courses(self):\n",
        "    return self.courses\n"
      ],
      "metadata": {
        "id": "hqr51ZKAK1gU"
      },
      "execution_count": null,
      "outputs": []
    },
    {
      "cell_type": "markdown",
      "source": [
        "Reverse function (recursion)"
      ],
      "metadata": {
        "id": "pV_DSc976Y-I"
      }
    },
    {
      "cell_type": "code",
      "source": [
        "def displayFee(fee):\n",
        "  print(fee)\n",
        "\n",
        "def calcFee(hours, decimals=2):\n",
        "  fee = 5 + hours * 2.5\n",
        "  fee = round(fee, decimals)\n",
        "  return fee\n",
        "\n",
        "if __name__ == '__main__':\n",
        "  h = int(input('Enter number of hours: '))\n",
        "  displayFee(calcFee(h))\n",
        "\n",
        "def reverse(s):\n",
        "  if len (s) ==1:\n",
        "    return s\n",
        "\n",
        "  else:\n",
        "    return s[-1]+ reverse(s[:-1])+s[0]\n",
        "    return reverse(s[1:])+s[0]\n",
        "    return s[-1]+reverse(s[:-1])\n",
        "\n",
        "  reverse('Hello')"
      ],
      "metadata": {
        "id": "GEMIBk1z6Ys1"
      },
      "execution_count": null,
      "outputs": []
    }
  ]
}